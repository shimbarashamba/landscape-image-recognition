{
 "cells": [
  {
   "cell_type": "markdown",
   "id": "306828b5",
   "metadata": {},
   "source": [
    "# Model 2\n",
    "## In this file I will build and train another model: Model 2. It will use image augmentation. All models will be evaluated on the test data in another file."
   ]
  },
  {
   "cell_type": "code",
   "execution_count": 1,
   "id": "bc288b21",
   "metadata": {},
   "outputs": [],
   "source": [
    "import tensorflow as tf\n",
    "from tensorflow.keras.preprocessing.image import ImageDataGenerator\n",
    "from tensorflow.keras.models import Sequential\n",
    "from tensorflow.keras.layers import Conv2D, MaxPooling2D\n",
    "from tensorflow.keras.layers import Activation, Dropout, Flatten, Dense\n",
    "from tensorflow.keras.optimizers import Adam\n",
    "import os"
   ]
  },
  {
   "cell_type": "code",
   "execution_count": 2,
   "id": "ec1002a5",
   "metadata": {},
   "outputs": [],
   "source": [
    "# Define the directory paths\n",
    "base_dir = 'Landscape Classification'\n",
    "train_dir = base_dir + '/Training Data'\n",
    "validation_dir = base_dir + '/Validation Data'\n",
    "\n",
    "# Defining image dimensions and batch size\n",
    "img_width, img_height = 150, 150\n",
    "batch_size = 32"
   ]
  },
  {
   "cell_type": "code",
   "execution_count": 3,
   "id": "5136c5ef",
   "metadata": {},
   "outputs": [
    {
     "name": "stdout",
     "output_type": "stream",
     "text": [
      "Found 10000 images belonging to 5 classes.\n",
      "Found 1500 images belonging to 5 classes.\n"
     ]
    }
   ],
   "source": [
    "# Data Augmentation for Training Set\n",
    "train_datagen = ImageDataGenerator(\n",
    "    rescale=1./255,\n",
    "    rotation_range=40,\n",
    "    width_shift_range=0.2,\n",
    "    height_shift_range=0.2,\n",
    "    shear_range=0.2,\n",
    "    zoom_range=0.2,\n",
    "    horizontal_flip=True,\n",
    "    fill_mode='nearest')\n",
    "\n",
    "# Not augmenting validation data\n",
    "val_datagen = ImageDataGenerator(rescale=1./255)\n",
    "\n",
    "# Flow training images in batches using train_datagen generator\n",
    "train_generator = train_datagen.flow_from_directory(\n",
    "    train_dir,\n",
    "    target_size=(img_width, img_height),\n",
    "    batch_size=batch_size,\n",
    "    class_mode='categorical')\n",
    "\n",
    "# Flow validation images in batches using val_datagen generator\n",
    "validation_generator = val_datagen.flow_from_directory(\n",
    "    validation_dir,\n",
    "    target_size=(img_width, img_height),\n",
    "    batch_size=batch_size,\n",
    "    class_mode='categorical')"
   ]
  },
  {
   "cell_type": "code",
   "execution_count": 4,
   "id": "99b8c3b3",
   "metadata": {},
   "outputs": [],
   "source": [
    "# Defining the model architecture\n",
    "model = tf.keras.models.Sequential([\n",
    "    tf.keras.layers.Conv2D(32, (3, 3), activation='relu', input_shape=(img_width, img_height, 3)),\n",
    "    tf.keras.layers.MaxPooling2D(2, 2),\n",
    "    tf.keras.layers.Conv2D(64, (3, 3), activation='relu'),\n",
    "    tf.keras.layers.MaxPooling2D(2, 2),\n",
    "    tf.keras.layers.Conv2D(128, (3, 3), activation='relu'),\n",
    "    tf.keras.layers.MaxPooling2D(2, 2),\n",
    "    tf.keras.layers.Conv2D(128, (3, 3), activation='relu'),\n",
    "    tf.keras.layers.MaxPooling2D(2, 2),\n",
    "    tf.keras.layers.Flatten(),\n",
    "    tf.keras.layers.Dense(512, activation='relu'),\n",
    "    tf.keras.layers.Dense(5, activation='softmax')\n",
    "])"
   ]
  },
  {
   "cell_type": "code",
   "execution_count": 5,
   "id": "091fdf64",
   "metadata": {},
   "outputs": [
    {
     "name": "stderr",
     "output_type": "stream",
     "text": [
      "WARNING:absl:At this time, the v2.11+ optimizer `tf.keras.optimizers.Adam` runs slowly on M1/M2 Macs, please use the legacy Keras optimizer instead, located at `tf.keras.optimizers.legacy.Adam`.\n"
     ]
    }
   ],
   "source": [
    "# Compiles the model\n",
    "model.compile(loss='categorical_crossentropy',\n",
    "              optimizer=Adam(learning_rate=0.001),\n",
    "              metrics=['accuracy'])"
   ]
  },
  {
   "cell_type": "code",
   "execution_count": 6,
   "id": "df0cf235",
   "metadata": {},
   "outputs": [
    {
     "name": "stdout",
     "output_type": "stream",
     "text": [
      "Epoch 1/10\n",
      "312/312 [==============================] - 66s 209ms/step - loss: 1.0547 - accuracy: 0.5799 - val_loss: 1.0397 - val_accuracy: 0.5802\n",
      "Epoch 2/10\n",
      "312/312 [==============================] - 67s 214ms/step - loss: 0.9260 - accuracy: 0.6445 - val_loss: 0.9339 - val_accuracy: 0.6338\n",
      "Epoch 3/10\n",
      "312/312 [==============================] - 68s 217ms/step - loss: 0.8712 - accuracy: 0.6638 - val_loss: 0.9238 - val_accuracy: 0.6556\n",
      "Epoch 4/10\n",
      "312/312 [==============================] - 67s 214ms/step - loss: 0.8343 - accuracy: 0.6836 - val_loss: 0.9459 - val_accuracy: 0.6474\n",
      "Epoch 5/10\n",
      "312/312 [==============================] - 70s 223ms/step - loss: 0.7852 - accuracy: 0.7016 - val_loss: 0.9054 - val_accuracy: 0.6508\n",
      "Epoch 6/10\n",
      "312/312 [==============================] - 68s 218ms/step - loss: 0.7681 - accuracy: 0.7089 - val_loss: 0.8136 - val_accuracy: 0.6909\n",
      "Epoch 7/10\n",
      "312/312 [==============================] - 68s 219ms/step - loss: 0.7502 - accuracy: 0.7176 - val_loss: 0.7914 - val_accuracy: 0.7154\n",
      "Epoch 8/10\n",
      "312/312 [==============================] - 68s 219ms/step - loss: 0.7487 - accuracy: 0.7194 - val_loss: 0.8484 - val_accuracy: 0.6841\n",
      "Epoch 9/10\n",
      "312/312 [==============================] - 68s 217ms/step - loss: 0.7127 - accuracy: 0.7275 - val_loss: 0.8894 - val_accuracy: 0.6793\n",
      "Epoch 10/10\n",
      "312/312 [==============================] - 65s 208ms/step - loss: 0.6886 - accuracy: 0.7428 - val_loss: 0.7918 - val_accuracy: 0.7099\n"
     ]
    }
   ],
   "source": [
    "# Trains the model\n",
    "history = model.fit(\n",
    "    train_generator,\n",
    "    steps_per_epoch=train_generator.samples // batch_size,\n",
    "    epochs=10,\n",
    "    validation_data=validation_generator,\n",
    "    validation_steps=validation_generator.samples // batch_size)"
   ]
  },
  {
   "cell_type": "code",
   "execution_count": 7,
   "id": "64a22b97",
   "metadata": {},
   "outputs": [],
   "source": [
    "model_name = 'Model-2'\n",
    "\n",
    "model_path = f'{model_name}.keras'\n",
    "\n",
    "model.save(model_path)"
   ]
  },
  {
   "cell_type": "code",
   "execution_count": null,
   "id": "8c418723",
   "metadata": {},
   "outputs": [],
   "source": []
  }
 ],
 "metadata": {
  "kernelspec": {
   "display_name": "Python 3 (ipykernel)",
   "language": "python",
   "name": "python3"
  },
  "language_info": {
   "codemirror_mode": {
    "name": "ipython",
    "version": 3
   },
   "file_extension": ".py",
   "mimetype": "text/x-python",
   "name": "python",
   "nbconvert_exporter": "python",
   "pygments_lexer": "ipython3",
   "version": "3.11.3"
  }
 },
 "nbformat": 4,
 "nbformat_minor": 5
}

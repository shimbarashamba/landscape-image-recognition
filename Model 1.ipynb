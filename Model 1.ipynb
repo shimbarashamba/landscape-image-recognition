{
 "cells": [
  {
   "cell_type": "markdown",
   "id": "9af567ff",
   "metadata": {},
   "source": [
    "# Model 1\n",
    "\n",
    "## In this file I will build and train a first model: Model 1. I will use no image augmentation. All models will be evaluated on the test data in another file."
   ]
  },
  {
   "cell_type": "code",
   "execution_count": 2,
   "id": "001c4369",
   "metadata": {},
   "outputs": [],
   "source": [
    "import tensorflow as tf\n",
    "from tensorflow.keras.preprocessing.image import ImageDataGenerator\n",
    "from tensorflow.keras.models import Sequential\n",
    "from tensorflow.keras.layers import Conv2D, MaxPooling2D\n",
    "from tensorflow.keras.layers import Activation, Dropout, Flatten, Dense\n",
    "from tensorflow.keras.optimizers import Adam\n",
    "import os"
   ]
  },
  {
   "cell_type": "code",
   "execution_count": 3,
   "id": "02c3ef8c",
   "metadata": {},
   "outputs": [],
   "source": [
    "base_dir = 'Landscape Classification'\n",
    "\n",
    "train_dir = os.path.join(base_dir, 'Training Data')\n",
    "validation_dir = os.path.join(base_dir, 'Validation Data')\n",
    "\n",
    "# Dimensions and batch size (using some common values)\n",
    "img_width, img_height = 150, 150\n",
    "batch_size = 32\n"
   ]
  },
  {
   "cell_type": "code",
   "execution_count": 4,
   "id": "aaf4b671",
   "metadata": {},
   "outputs": [
    {
     "name": "stdout",
     "output_type": "stream",
     "text": [
      "Found 10000 images belonging to 5 classes.\n",
      "Found 1500 images belonging to 5 classes.\n",
      "Found 500 images belonging to 5 classes.\n"
     ]
    }
   ],
   "source": [
    "# Rescale pixel values\n",
    "train_datagen = ImageDataGenerator(rescale=1./255)\n",
    "val_datagen = ImageDataGenerator(rescale=1./255)\n",
    "\n",
    "# Retrieves images and their classes for train and validation sets\n",
    "train_generator = train_datagen.flow_from_directory(\n",
    "    train_dir,\n",
    "    target_size=(img_width, img_height),\n",
    "    batch_size=batch_size,\n",
    "    class_mode='categorical')\n",
    "\n",
    "validation_generator = val_datagen.flow_from_directory(\n",
    "    validation_dir,\n",
    "    target_size=(img_width, img_height),\n",
    "    batch_size=batch_size,\n",
    "    class_mode='categorical')"
   ]
  },
  {
   "cell_type": "code",
   "execution_count": 5,
   "id": "0d2aa0c2",
   "metadata": {},
   "outputs": [],
   "source": [
    "model = Sequential()\n",
    "model.add(Conv2D(32, (3, 3), input_shape=(img_width, img_height, 3)))\n",
    "model.add(Activation('relu'))\n",
    "model.add(MaxPooling2D(pool_size=(2, 2)))\n",
    "\n",
    "model.add(Conv2D(32, (3, 3)))\n",
    "model.add(Activation('relu'))\n",
    "model.add(MaxPooling2D(pool_size=(2, 2)))\n",
    "\n",
    "model.add(Conv2D(64, (3, 3)))\n",
    "model.add(Activation('relu'))\n",
    "model.add(MaxPooling2D(pool_size=(2, 2)))\n",
    "\n",
    "model.add(Flatten())\n",
    "model.add(Dense(64))\n",
    "model.add(Activation('relu'))\n",
    "model.add(Dropout(0.5))\n",
    "model.add(Dense(5))  # Assuming 5 classes: Coast, Desert, Forest, Glacier, Mountain\n",
    "model.add(Activation('softmax'))"
   ]
  },
  {
   "cell_type": "code",
   "execution_count": 13,
   "id": "4d9fc149",
   "metadata": {},
   "outputs": [
    {
     "name": "stderr",
     "output_type": "stream",
     "text": [
      "WARNING:absl:At this time, the v2.11+ optimizer `tf.keras.optimizers.Adam` runs slowly on M1/M2 Macs, please use the legacy Keras optimizer instead, located at `tf.keras.optimizers.legacy.Adam`.\n"
     ]
    }
   ],
   "source": [
    "# Compiling with optimizer Adam, learning rate standard settings.\n",
    "model.compile(loss='categorical_crossentropy',\n",
    "              optimizer=Adam(learning_rate=0.001),\n",
    "              metrics=['accuracy'])"
   ]
  },
  {
   "cell_type": "code",
   "execution_count": 14,
   "id": "feccf10b",
   "metadata": {},
   "outputs": [
    {
     "name": "stdout",
     "output_type": "stream",
     "text": [
      "Epoch 1/10\n",
      "312/312 [==============================] - 37s 116ms/step - loss: 1.1189 - accuracy: 0.5615 - val_loss: 0.9696 - val_accuracy: 0.6352\n",
      "Epoch 2/10\n",
      "312/312 [==============================] - 38s 120ms/step - loss: 0.9770 - accuracy: 0.6286 - val_loss: 0.9290 - val_accuracy: 0.6454\n",
      "Epoch 3/10\n",
      "312/312 [==============================] - 37s 120ms/step - loss: 0.9285 - accuracy: 0.6514 - val_loss: 0.9044 - val_accuracy: 0.6630\n",
      "Epoch 4/10\n",
      "312/312 [==============================] - 37s 119ms/step - loss: 0.8844 - accuracy: 0.6698 - val_loss: 0.8887 - val_accuracy: 0.6501\n",
      "Epoch 5/10\n",
      "312/312 [==============================] - 37s 117ms/step - loss: 0.8454 - accuracy: 0.6884 - val_loss: 0.8916 - val_accuracy: 0.6644\n",
      "Epoch 6/10\n",
      "312/312 [==============================] - 37s 117ms/step - loss: 0.7980 - accuracy: 0.7056 - val_loss: 0.8415 - val_accuracy: 0.6712\n",
      "Epoch 7/10\n",
      "312/312 [==============================] - 37s 120ms/step - loss: 0.7487 - accuracy: 0.7224 - val_loss: 0.8472 - val_accuracy: 0.6821\n",
      "Epoch 8/10\n",
      "312/312 [==============================] - 38s 121ms/step - loss: 0.7064 - accuracy: 0.7384 - val_loss: 0.8686 - val_accuracy: 0.6807\n",
      "Epoch 9/10\n",
      "312/312 [==============================] - 37s 120ms/step - loss: 0.6816 - accuracy: 0.7451 - val_loss: 0.9524 - val_accuracy: 0.6515\n",
      "Epoch 10/10\n",
      "312/312 [==============================] - 38s 120ms/step - loss: 0.6396 - accuracy: 0.7575 - val_loss: 0.8472 - val_accuracy: 0.6909\n"
     ]
    }
   ],
   "source": [
    "epochs = 10  # Using 10 epochs\n",
    "\n",
    "history = model.fit(\n",
    "    train_generator,\n",
    "    steps_per_epoch=train_generator.samples // batch_size,\n",
    "    epochs=epochs,\n",
    "    validation_data=validation_generator,\n",
    "    validation_steps=validation_generator.samples // batch_size)\n"
   ]
  },
  {
   "cell_type": "code",
   "execution_count": 16,
   "id": "fb4a9e4b",
   "metadata": {},
   "outputs": [],
   "source": [
    "model_name = 'Model-1'\n",
    "\n",
    "model_path = f'{model_name}.keras'\n",
    "\n",
    "model.save(model_path)"
   ]
  }
 ],
 "metadata": {
  "kernelspec": {
   "display_name": "Python 3 (ipykernel)",
   "language": "python",
   "name": "python3"
  },
  "language_info": {
   "codemirror_mode": {
    "name": "ipython",
    "version": 3
   },
   "file_extension": ".py",
   "mimetype": "text/x-python",
   "name": "python",
   "nbconvert_exporter": "python",
   "pygments_lexer": "ipython3",
   "version": "3.11.3"
  }
 },
 "nbformat": 4,
 "nbformat_minor": 5
}

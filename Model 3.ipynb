{
 "cells": [
  {
   "cell_type": "markdown",
   "id": "2b474dc0",
   "metadata": {},
   "source": [
    "# Model 3\n",
    "## In this file I will build and train another model: Model 3. It will use image augmentation. It is also structured differently, with more convolutional layers, a dropout layer and another dense layer. The and  All models will be evaluated on the test data in another file. The hyperparameters have also been tuned, with the number of epochs increased to 15 and learning rate decreased to 0.0003.\n",
    "\n",
    "## This model, along with the other two, will be evaluated on the test data in another file."
   ]
  },
  {
   "cell_type": "code",
   "execution_count": 1,
   "id": "6c9c2648",
   "metadata": {},
   "outputs": [],
   "source": [
    "import tensorflow as tf\n",
    "from tensorflow.keras.preprocessing.image import ImageDataGenerator\n",
    "from tensorflow.keras.models import Sequential\n",
    "from tensorflow.keras.layers import Conv2D, MaxPooling2D\n",
    "from tensorflow.keras.layers import Activation, Dropout, Flatten, Dense\n",
    "from tensorflow.keras.optimizers import Adam\n",
    "import os"
   ]
  },
  {
   "cell_type": "code",
   "execution_count": 2,
   "id": "b6017612",
   "metadata": {},
   "outputs": [],
   "source": [
    "# Define the directory paths\n",
    "base_dir = 'Landscape Classification'\n",
    "train_dir = base_dir + '/Training Data'\n",
    "validation_dir = base_dir + '/Validation Data'\n",
    "\n",
    "# Define image dimensions and batch size\n",
    "img_width, img_height = 150, 150\n",
    "batch_size = 32"
   ]
  },
  {
   "cell_type": "code",
   "execution_count": 3,
   "id": "1cf23a8d",
   "metadata": {},
   "outputs": [
    {
     "name": "stdout",
     "output_type": "stream",
     "text": [
      "Found 10000 images belonging to 5 classes.\n",
      "Found 1500 images belonging to 5 classes.\n"
     ]
    }
   ],
   "source": [
    "# Data Augmentation for Training Set\n",
    "train_datagen = ImageDataGenerator(\n",
    "    rescale=1./255,\n",
    "    rotation_range=20,\n",
    "    width_shift_range=0.1,\n",
    "    height_shift_range=0.1,\n",
    "    shear_range=0.1,\n",
    "    zoom_range=0.1,\n",
    "    horizontal_flip=True,\n",
    "    fill_mode='nearest')\n",
    "\n",
    "# Not augmenting validation data\n",
    "val_datagen = ImageDataGenerator(rescale=1./255)\n",
    "\n",
    "# Flow training images in batches using train_datagen generator\n",
    "train_generator = train_datagen.flow_from_directory(\n",
    "    train_dir,\n",
    "    target_size=(img_width, img_height),\n",
    "    batch_size=batch_size,\n",
    "    class_mode='categorical')\n",
    "\n",
    "# Flow validation images in batches using val_datagen generator\n",
    "validation_generator = val_datagen.flow_from_directory(\n",
    "    validation_dir,\n",
    "    target_size=(img_width, img_height),\n",
    "    batch_size=batch_size,\n",
    "    class_mode='categorical')"
   ]
  },
  {
   "cell_type": "code",
   "execution_count": 4,
   "id": "92bdda84",
   "metadata": {},
   "outputs": [],
   "source": [
    "# Define the model architecture\n",
    "# Added conv2D layers, dropout layer, and anoher dense layer\n",
    "model = tf.keras.models.Sequential([\n",
    "    tf.keras.layers.Conv2D(64, (3, 3), activation='relu', input_shape=(img_width, img_height, 3)),\n",
    "    tf.keras.layers.MaxPooling2D(2, 2),\n",
    "    tf.keras.layers.Conv2D(128, (3, 3), activation='relu'),\n",
    "    tf.keras.layers.MaxPooling2D(2, 2),\n",
    "    tf.keras.layers.Conv2D(256, (3, 3), activation='relu'),\n",
    "    tf.keras.layers.MaxPooling2D(2, 2),\n",
    "    tf.keras.layers.Conv2D(256, (3, 3), activation='relu'),\n",
    "    tf.keras.layers.MaxPooling2D(2, 2),\n",
    "    tf.keras.layers.Flatten(),\n",
    "    tf.keras.layers.Dense(512, activation='relu'),\n",
    "    tf.keras.layers.Dropout(0.5),  # Adding dropout for regularization\n",
    "    tf.keras.layers.Dense(256, activation='relu'),  # Adding another dense layer\n",
    "    tf.keras.layers.Dense(5, activation='softmax')  # Assuming 5 classes\n",
    "])"
   ]
  },
  {
   "cell_type": "code",
   "execution_count": 6,
   "id": "7edc35a5",
   "metadata": {},
   "outputs": [
    {
     "name": "stderr",
     "output_type": "stream",
     "text": [
      "WARNING:absl:At this time, the v2.11+ optimizer `tf.keras.optimizers.Adam` runs slowly on M1/M2 Macs, please use the legacy Keras optimizer instead, located at `tf.keras.optimizers.legacy.Adam`.\n"
     ]
    }
   ],
   "source": [
    "# Compile the model with a lower learning rate\n",
    "model.compile(loss='categorical_crossentropy',\n",
    "              optimizer=tf.keras.optimizers.Adam(learning_rate=0.0001),  # Lower learning rate\n",
    "              metrics=['accuracy'])"
   ]
  },
  {
   "cell_type": "code",
   "execution_count": 7,
   "id": "0b4e6e14",
   "metadata": {},
   "outputs": [
    {
     "name": "stdout",
     "output_type": "stream",
     "text": [
      "Epoch 1/15\n",
      "312/312 [==============================] - 188s 601ms/step - loss: 1.0379 - accuracy: 0.5857 - val_loss: 0.9926 - val_accuracy: 0.6033\n",
      "Epoch 2/15\n",
      "312/312 [==============================] - 187s 599ms/step - loss: 0.8829 - accuracy: 0.6609 - val_loss: 0.8994 - val_accuracy: 0.6556\n",
      "Epoch 3/15\n",
      "312/312 [==============================] - 187s 599ms/step - loss: 0.8333 - accuracy: 0.6832 - val_loss: 0.8901 - val_accuracy: 0.6529\n",
      "Epoch 4/15\n",
      "312/312 [==============================] - 188s 603ms/step - loss: 0.7957 - accuracy: 0.6997 - val_loss: 0.8569 - val_accuracy: 0.6861\n",
      "Epoch 5/15\n",
      "312/312 [==============================] - 188s 603ms/step - loss: 0.7726 - accuracy: 0.7087 - val_loss: 0.8147 - val_accuracy: 0.6868\n",
      "Epoch 6/15\n",
      "312/312 [==============================] - 188s 603ms/step - loss: 0.7382 - accuracy: 0.7191 - val_loss: 0.8899 - val_accuracy: 0.6461\n",
      "Epoch 7/15\n",
      "312/312 [==============================] - 189s 607ms/step - loss: 0.7187 - accuracy: 0.7293 - val_loss: 0.8271 - val_accuracy: 0.6875\n",
      "Epoch 8/15\n",
      "312/312 [==============================] - 190s 609ms/step - loss: 0.6890 - accuracy: 0.7400 - val_loss: 0.8094 - val_accuracy: 0.6977\n",
      "Epoch 9/15\n",
      "312/312 [==============================] - 186s 596ms/step - loss: 0.6765 - accuracy: 0.7475 - val_loss: 0.7567 - val_accuracy: 0.7181\n",
      "Epoch 10/15\n",
      "312/312 [==============================] - 187s 599ms/step - loss: 0.6505 - accuracy: 0.7575 - val_loss: 0.8011 - val_accuracy: 0.7106\n",
      "Epoch 11/15\n",
      "312/312 [==============================] - 187s 599ms/step - loss: 0.6359 - accuracy: 0.7634 - val_loss: 0.8542 - val_accuracy: 0.6766\n",
      "Epoch 12/15\n",
      "312/312 [==============================] - 187s 599ms/step - loss: 0.6216 - accuracy: 0.7690 - val_loss: 0.7870 - val_accuracy: 0.7031\n",
      "Epoch 13/15\n",
      "312/312 [==============================] - 186s 597ms/step - loss: 0.6004 - accuracy: 0.7773 - val_loss: 0.7950 - val_accuracy: 0.6984\n",
      "Epoch 14/15\n",
      "312/312 [==============================] - 187s 599ms/step - loss: 0.5912 - accuracy: 0.7825 - val_loss: 0.6986 - val_accuracy: 0.7432\n",
      "Epoch 15/15\n",
      "312/312 [==============================] - 188s 601ms/step - loss: 0.5725 - accuracy: 0.7870 - val_loss: 0.7052 - val_accuracy: 0.7446\n"
     ]
    }
   ],
   "source": [
    "# Train the model with more epochs\n",
    "history = model.fit(\n",
    "    train_generator,\n",
    "    steps_per_epoch=train_generator.samples // batch_size,\n",
    "    epochs=15,  # 15 epochs this time\n",
    "    validation_data=validation_generator,\n",
    "    validation_steps=validation_generator.samples // batch_size)"
   ]
  },
  {
   "cell_type": "code",
   "execution_count": 8,
   "id": "e9395291",
   "metadata": {},
   "outputs": [],
   "source": [
    "model_name = 'Model-3'\n",
    "\n",
    "model_path = f'{model_name}.keras'\n",
    "\n",
    "model.save(model_path)"
   ]
  }
 ],
 "metadata": {
  "kernelspec": {
   "display_name": "Python 3 (ipykernel)",
   "language": "python",
   "name": "python3"
  },
  "language_info": {
   "codemirror_mode": {
    "name": "ipython",
    "version": 3
   },
   "file_extension": ".py",
   "mimetype": "text/x-python",
   "name": "python",
   "nbconvert_exporter": "python",
   "pygments_lexer": "ipython3",
   "version": "3.11.3"
  }
 },
 "nbformat": 4,
 "nbformat_minor": 5
}
